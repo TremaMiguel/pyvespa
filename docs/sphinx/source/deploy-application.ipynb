{
 "cells": [
  {
   "cell_type": "markdown",
   "metadata": {},
   "source": [
    "# Deploy Vespa applications\n",
    "\n",
    "> Python API to deploy application packages to Vespa Cloud or to Docker containers"
   ]
  },
  {
   "cell_type": "markdown",
   "metadata": {},
   "source": [
    "## Export application package files to disk"
   ]
  },
  {
   "cell_type": "markdown",
   "metadata": {},
   "source": [
    "Exporting application package files to disk can be useful if you want to inspect the files yourself for learning or debugging. In addition you might want to export the current state of your application files to add new features that are not yet covered by the python API. You can then deploy the modified application directly from the files on disk."
   ]
  },
  {
   "cell_type": "code",
   "execution_count": null,
   "metadata": {},
   "outputs": [],
   "source": [
    "vespa_docker.export_application_package(\n",
    "    dir_path=disk_folder, \n",
    "    application_package=app_package\n",
    ")"
   ]
  }
 ],
 "metadata": {
  "kernelspec": {
   "display_name": "Python 3",
   "language": "python",
   "name": "python3"
  },
  "language_info": {
   "codemirror_mode": {
    "name": "ipython",
    "version": 3
   },
   "file_extension": ".py",
   "mimetype": "text/x-python",
   "name": "python",
   "nbconvert_exporter": "python",
   "pygments_lexer": "ipython3",
   "version": "3.8.5"
  }
 },
 "nbformat": 4,
 "nbformat_minor": 4
}
